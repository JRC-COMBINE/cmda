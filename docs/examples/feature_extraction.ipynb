{
 "cells": [
  {
   "cell_type": "markdown",
   "id": "c3a3d5d5",
   "metadata": {},
   "source": [
    "# Mulrivariate Feature Extraction"
   ]
  },
  {
   "cell_type": "markdown",
   "id": "01299a0f",
   "metadata": {},
   "source": [
    "In this tutorial, we show how to extract features from a multivariate signal. In the first example, we extract similar features from all the variables, and in the second part, we show how to extract different features from each variable. Please read the [tutorial](/feature_object.ipynb) on how to create a feature object first.\n",
    "We use the same data as used in the [Feature Object tutorial](/feature_object.ipynb).\n",
    "The data contain two signals (ECG, ABP) with a sampling frequency = 500."
   ]
  },
  {
   "cell_type": "markdown",
   "id": "07f633ac",
   "metadata": {},
   "source": [
    "### Feature extraction with one feature object"
   ]
  },
  {
   "cell_type": "markdown",
   "id": "63cc1673",
   "metadata": {},
   "source": [
    "To extract features from a dataset, we use ```cmda.feature_extraction.extract_features``` function. First, we create a feature object with ```cmda.feature_ectraction.Features```."
   ]
  },
  {
   "cell_type": "code",
   "execution_count": 3,
   "id": "1ed5d927",
   "metadata": {},
   "outputs": [],
   "source": [
    "from cmda.feature_extraction import Features\n",
    "from cmda.feature_extraction import extract_features\n",
    "from cmda.data import ecg_apb_sample\n",
    "\n",
    "# load the data\n",
    "data = ecg_apb_sample()\n",
    "\n",
    "# Create the feeature object\n",
    "features = Features()\n",
    "\n",
    "# Add built-in features\n",
    "features.add.std()\n",
    "features.add.mnf()\n",
    "features.add.stdf()\n",
    "\n",
    "# extract eatures\n",
    "res = extract_features(data=data, feature_obj=features)"
   ]
  },
  {
   "cell_type": "code",
   "execution_count": 4,
   "id": "0b207442",
   "metadata": {},
   "outputs": [
    {
     "data": {
      "text/plain": [
       "{'ECG_std': 0.0912508348533301,\n",
       " 'ECG_mnf': 0.0788637517512694,\n",
       " 'ECG_stdf': 0.053261490993652905,\n",
       " 'ABP_std': 13.268216310510619,\n",
       " 'ABP_mnf': 0.01604557934763282,\n",
       " 'ABP_stdf': 0.012480758701313835}"
      ]
     },
     "execution_count": 4,
     "metadata": {},
     "output_type": "execute_result"
    }
   ],
   "source": [
    "res"
   ]
  },
  {
   "cell_type": "markdown",
   "id": "7766373f",
   "metadata": {},
   "source": [
    "### Feature extraction with multiple feature objects"
   ]
  },
  {
   "cell_type": "markdown",
   "id": "1f0cd822",
   "metadata": {},
   "source": [
    "In various real applications, extracting similar features from different signals may lead to wrong data compression and unnecessary information. To avoid that, we show how to create and apply signal specific feature objects."
   ]
  },
  {
   "cell_type": "code",
   "execution_count": null,
   "id": "a615af35",
   "metadata": {},
   "outputs": [],
   "source": [
    "from cmda.feature_extraction import Features\n",
    "from cmda.feature_extraction import extract_features\n",
    "from cmda.data import ecg_apb_sample\n",
    "\n",
    "# load the data\n",
    "data = ecg_apb_sample()\n",
    "\n",
    "# Create the feature object for ECG signal\n",
    "ecg_features = Features()\n",
    "\n",
    "# Add built-in features\n",
    "ecg_features.add.mnf()\n",
    "ecg_features.add.stdf()\n",
    "\n",
    "\n",
    "# Create the feature object for ECG signal\n",
    "abp_features = Features()\n",
    "\n",
    "# Add built-in features\n",
    "abp_features.add.mean()\n",
    "abp_features.add.std()\n",
    "abp_features.add.max()\n",
    "abp_features.add.min()\n",
    "\n",
    "# Create the feature object as a dict\n",
    "features = {'ECG':ecg_features, 'ABP'}\n",
    "\n",
    "# extract eatures\n",
    "res = extract_features(data=data, feature_obj=features)"
   ]
  }
 ],
 "metadata": {
  "kernelspec": {
   "display_name": "Python 3",
   "language": "python",
   "name": "python3"
  },
  "language_info": {
   "codemirror_mode": {
    "name": "ipython",
    "version": 3
   },
   "file_extension": ".py",
   "mimetype": "text/x-python",
   "name": "python",
   "nbconvert_exporter": "python",
   "pygments_lexer": "ipython3",
   "version": "3.7.4"
  }
 },
 "nbformat": 4,
 "nbformat_minor": 5
}
