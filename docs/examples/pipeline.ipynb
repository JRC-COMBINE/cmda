{
 "cells": [
  {
   "cell_type": "markdown",
   "id": "56116c98",
   "metadata": {},
   "source": [
    "# Feature Extraction Pipeline"
   ]
  },
  {
   "cell_type": "markdown",
   "id": "c7d201fa",
   "metadata": {},
   "source": [
    "This tutorial shows how to use the pipeline to extract features from CSV files."
   ]
  },
  {
   "cell_type": "markdown",
   "id": "32ebe0d3",
   "metadata": {},
   "source": [
    "In this example, we use a series of sample CSV files. The sample files contain three ECG channels ('II','V1','AVF'). To download the data, we use the ```cmda.data.get_sample.csv``` function. After downloading the data, we implement a CSV importer ```cmda.read_data.ReadCSV```. We create the filtering object by ```cmda.preprocessing.Filters``` and create the feature object by ```cmda.feature_extraction.Features```. A detailed tutorial of creating feature objects can be found here."
   ]
  },
  {
   "cell_type": "markdown",
   "id": "eac916e3",
   "metadata": {},
   "source": [
    "#### Load the required modules"
   ]
  },
  {
   "cell_type": "code",
   "execution_count": 1,
   "id": "14f14dbc",
   "metadata": {},
   "outputs": [],
   "source": [
    "from cmda.data import get_csv_samples\n",
    "from cmda.read_data import ReadCSV\n",
    "from cmda.preprocessing import Filters\n",
    "from cmda.feature_extraction import Features\n",
    "from cmda.pipeline import Pipeline"
   ]
  },
  {
   "cell_type": "markdown",
   "id": "6bbd0fc7",
   "metadata": {},
   "source": [
    "#### Download the sample data from Physionet ECGRDVQ database\n",
    "The downloaded data will be stored in the pre-defined path"
   ]
  },
  {
   "cell_type": "code",
   "execution_count": 2,
   "id": "f397e84f",
   "metadata": {},
   "outputs": [
    {
     "name": "stdout",
     "output_type": "stream",
     "text": [
      "Downloading the sample CSV files ...\n",
      "finished!\n"
     ]
    }
   ],
   "source": [
    "data_path = \"/Users/pejman/Desktop/JRC/test\"\n",
    "get_csv_samples(data_path)"
   ]
  },
  {
   "cell_type": "markdown",
   "id": "dc0e02fd",
   "metadata": {},
   "source": [
    "#### Build the importer object using ReadCSV\n",
    "- Give the data_path as `files_list`, which lead to import all the csv files in this directory\n",
    "- Set the `channels` to [\"II\",'V1'] to import only these channels."
   ]
  },
  {
   "cell_type": "code",
   "execution_count": 3,
   "id": "3328d810",
   "metadata": {},
   "outputs": [],
   "source": [
    "importer = ReadCSV(files_list = data_path, fs = 500, channels=['II','V1'])"
   ]
  },
  {
   "cell_type": "markdown",
   "id": "a07a3bb9",
   "metadata": {},
   "source": [
    "#### Create the filter object and add a butterworth low-pass filter"
   ]
  },
  {
   "cell_type": "code",
   "execution_count": 4,
   "id": "81c93e14",
   "metadata": {},
   "outputs": [],
   "source": [
    "filters = Filters()\n",
    "filters.add.butter_filter(cutoff=60, btype=\"lowpass\")"
   ]
  },
  {
   "cell_type": "markdown",
   "id": "babd9a8c",
   "metadata": {},
   "source": [
    "#### Create the feature object"
   ]
  },
  {
   "cell_type": "code",
   "execution_count": 5,
   "id": "a188cb6d",
   "metadata": {},
   "outputs": [],
   "source": [
    "features = Features()\n",
    "features.add.mnf()\n",
    "features.add.stdf()\n",
    "features.add.band_power(low=1, high=7)\n",
    "features.add.spectral_entropy()"
   ]
  },
  {
   "cell_type": "markdown",
   "id": "50df7278",
   "metadata": {},
   "source": [
    "#### Build the pipeline"
   ]
  },
  {
   "cell_type": "code",
   "execution_count": 6,
   "id": "85255596",
   "metadata": {},
   "outputs": [],
   "source": [
    "pipeline = Pipeline(importer=importer,features=features, filters=filters)"
   ]
  },
  {
   "cell_type": "markdown",
   "id": "2ab0d746",
   "metadata": {},
   "source": [
    "#### Run the pipeline\n",
    "- Set the `dataframe_output` to True, to get the extracted as a Pandas dataframe"
   ]
  },
  {
   "cell_type": "code",
   "execution_count": 7,
   "id": "cf51bc57",
   "metadata": {},
   "outputs": [
    {
     "name": "stdout",
     "output_type": "stream",
     "text": [
      "Running the pipeline on 8 instances...\n",
      "\n"
     ]
    },
    {
     "name": "stderr",
     "output_type": "stream",
     "text": [
      "100%|█████████████████████████████████████████████| 8/8 [00:00<00:00, 65.02it/s]"
     ]
    },
    {
     "name": "stdout",
     "output_type": "stream",
     "text": [
      "finished!\n"
     ]
    },
    {
     "name": "stderr",
     "output_type": "stream",
     "text": [
      "\n"
     ]
    }
   ],
   "source": [
    "res = pipeline.run(n_jobs=1, dataframe_output = True)"
   ]
  },
  {
   "cell_type": "markdown",
   "id": "1983cbac",
   "metadata": {},
   "source": [
    "#### Show the results"
   ]
  },
  {
   "cell_type": "code",
   "execution_count": 8,
   "id": "8b13029f",
   "metadata": {},
   "outputs": [
    {
     "data": {
      "text/html": [
       "<div>\n",
       "<style scoped>\n",
       "    .dataframe tbody tr th:only-of-type {\n",
       "        vertical-align: middle;\n",
       "    }\n",
       "\n",
       "    .dataframe tbody tr th {\n",
       "        vertical-align: top;\n",
       "    }\n",
       "\n",
       "    .dataframe thead th {\n",
       "        text-align: right;\n",
       "    }\n",
       "</style>\n",
       "<table border=\"1\" class=\"dataframe\">\n",
       "  <thead>\n",
       "    <tr style=\"text-align: right;\">\n",
       "      <th></th>\n",
       "      <th>II_mnf</th>\n",
       "      <th>II_stdf</th>\n",
       "      <th>II_power_[1,7]Hz</th>\n",
       "      <th>II_spectral_entropy</th>\n",
       "      <th>V1_mnf</th>\n",
       "      <th>V1_stdf</th>\n",
       "      <th>V1_power_[1,7]Hz</th>\n",
       "      <th>V1_spectral_entropy</th>\n",
       "    </tr>\n",
       "  </thead>\n",
       "  <tbody>\n",
       "    <tr>\n",
       "      <th>db4d09aa-f26c-4acb-92fd-6ac316918bc8</th>\n",
       "      <td>4.432256</td>\n",
       "      <td>3.264980</td>\n",
       "      <td>0.677625</td>\n",
       "      <td>0.526984</td>\n",
       "      <td>3.819859</td>\n",
       "      <td>2.968060</td>\n",
       "      <td>0.782870</td>\n",
       "      <td>0.515724</td>\n",
       "    </tr>\n",
       "    <tr>\n",
       "      <th>dd3caf18-354d-4c81-9ff5-6aed843cd84b</th>\n",
       "      <td>4.536562</td>\n",
       "      <td>3.333852</td>\n",
       "      <td>0.706271</td>\n",
       "      <td>0.545971</td>\n",
       "      <td>3.853317</td>\n",
       "      <td>3.005272</td>\n",
       "      <td>0.787858</td>\n",
       "      <td>0.521945</td>\n",
       "    </tr>\n",
       "    <tr>\n",
       "      <th>00ed2097-cd14-4f03-ab33-853da5be5550</th>\n",
       "      <td>4.680868</td>\n",
       "      <td>3.415057</td>\n",
       "      <td>0.681794</td>\n",
       "      <td>0.563426</td>\n",
       "      <td>3.835144</td>\n",
       "      <td>2.928307</td>\n",
       "      <td>0.792073</td>\n",
       "      <td>0.539605</td>\n",
       "    </tr>\n",
       "    <tr>\n",
       "      <th>12133f6e-efcf-48cc-a184-2e4d7cc05a89</th>\n",
       "      <td>4.385626</td>\n",
       "      <td>3.301895</td>\n",
       "      <td>0.657598</td>\n",
       "      <td>0.558101</td>\n",
       "      <td>3.889583</td>\n",
       "      <td>2.990177</td>\n",
       "      <td>0.823255</td>\n",
       "      <td>0.547622</td>\n",
       "    </tr>\n",
       "    <tr>\n",
       "      <th>2c179592-3c18-47f2-930a-7f17ae4bc596</th>\n",
       "      <td>4.513898</td>\n",
       "      <td>3.553310</td>\n",
       "      <td>0.664922</td>\n",
       "      <td>0.538753</td>\n",
       "      <td>3.943077</td>\n",
       "      <td>3.044656</td>\n",
       "      <td>0.812445</td>\n",
       "      <td>0.523269</td>\n",
       "    </tr>\n",
       "    <tr>\n",
       "      <th>43457f03-eb84-49ef-a00a-8cbad7d5108d</th>\n",
       "      <td>4.830017</td>\n",
       "      <td>3.794825</td>\n",
       "      <td>0.702050</td>\n",
       "      <td>0.493287</td>\n",
       "      <td>4.047012</td>\n",
       "      <td>4.466516</td>\n",
       "      <td>0.775317</td>\n",
       "      <td>0.459705</td>\n",
       "    </tr>\n",
       "    <tr>\n",
       "      <th>491af4aa-941a-4a89-b74c-b38d91cfc5e9</th>\n",
       "      <td>4.370029</td>\n",
       "      <td>3.270324</td>\n",
       "      <td>0.668728</td>\n",
       "      <td>0.541584</td>\n",
       "      <td>3.847475</td>\n",
       "      <td>2.928440</td>\n",
       "      <td>0.790786</td>\n",
       "      <td>0.528843</td>\n",
       "    </tr>\n",
       "    <tr>\n",
       "      <th>9d7c5729-9458-4f8f-bf32-532d6b5ee5a4</th>\n",
       "      <td>4.551999</td>\n",
       "      <td>3.306508</td>\n",
       "      <td>0.668070</td>\n",
       "      <td>0.504049</td>\n",
       "      <td>3.835445</td>\n",
       "      <td>2.895322</td>\n",
       "      <td>0.784722</td>\n",
       "      <td>0.479707</td>\n",
       "    </tr>\n",
       "  </tbody>\n",
       "</table>\n",
       "</div>"
      ],
      "text/plain": [
       "                                        II_mnf   II_stdf  II_power_[1,7]Hz  \\\n",
       "db4d09aa-f26c-4acb-92fd-6ac316918bc8  4.432256  3.264980          0.677625   \n",
       "dd3caf18-354d-4c81-9ff5-6aed843cd84b  4.536562  3.333852          0.706271   \n",
       "00ed2097-cd14-4f03-ab33-853da5be5550  4.680868  3.415057          0.681794   \n",
       "12133f6e-efcf-48cc-a184-2e4d7cc05a89  4.385626  3.301895          0.657598   \n",
       "2c179592-3c18-47f2-930a-7f17ae4bc596  4.513898  3.553310          0.664922   \n",
       "43457f03-eb84-49ef-a00a-8cbad7d5108d  4.830017  3.794825          0.702050   \n",
       "491af4aa-941a-4a89-b74c-b38d91cfc5e9  4.370029  3.270324          0.668728   \n",
       "9d7c5729-9458-4f8f-bf32-532d6b5ee5a4  4.551999  3.306508          0.668070   \n",
       "\n",
       "                                      II_spectral_entropy    V1_mnf   V1_stdf  \\\n",
       "db4d09aa-f26c-4acb-92fd-6ac316918bc8             0.526984  3.819859  2.968060   \n",
       "dd3caf18-354d-4c81-9ff5-6aed843cd84b             0.545971  3.853317  3.005272   \n",
       "00ed2097-cd14-4f03-ab33-853da5be5550             0.563426  3.835144  2.928307   \n",
       "12133f6e-efcf-48cc-a184-2e4d7cc05a89             0.558101  3.889583  2.990177   \n",
       "2c179592-3c18-47f2-930a-7f17ae4bc596             0.538753  3.943077  3.044656   \n",
       "43457f03-eb84-49ef-a00a-8cbad7d5108d             0.493287  4.047012  4.466516   \n",
       "491af4aa-941a-4a89-b74c-b38d91cfc5e9             0.541584  3.847475  2.928440   \n",
       "9d7c5729-9458-4f8f-bf32-532d6b5ee5a4             0.504049  3.835445  2.895322   \n",
       "\n",
       "                                      V1_power_[1,7]Hz  V1_spectral_entropy  \n",
       "db4d09aa-f26c-4acb-92fd-6ac316918bc8          0.782870             0.515724  \n",
       "dd3caf18-354d-4c81-9ff5-6aed843cd84b          0.787858             0.521945  \n",
       "00ed2097-cd14-4f03-ab33-853da5be5550          0.792073             0.539605  \n",
       "12133f6e-efcf-48cc-a184-2e4d7cc05a89          0.823255             0.547622  \n",
       "2c179592-3c18-47f2-930a-7f17ae4bc596          0.812445             0.523269  \n",
       "43457f03-eb84-49ef-a00a-8cbad7d5108d          0.775317             0.459705  \n",
       "491af4aa-941a-4a89-b74c-b38d91cfc5e9          0.790786             0.528843  \n",
       "9d7c5729-9458-4f8f-bf32-532d6b5ee5a4          0.784722             0.479707  "
      ]
     },
     "execution_count": 8,
     "metadata": {},
     "output_type": "execute_result"
    }
   ],
   "source": [
    "res"
   ]
  }
 ],
 "metadata": {
  "kernelspec": {
   "display_name": "Python 3 (ipykernel)",
   "language": "python",
   "name": "python3"
  },
  "language_info": {
   "codemirror_mode": {
    "name": "ipython",
    "version": 3
   },
   "file_extension": ".py",
   "mimetype": "text/x-python",
   "name": "python",
   "nbconvert_exporter": "python",
   "pygments_lexer": "ipython3",
   "version": "3.9.7"
  }
 },
 "nbformat": 4,
 "nbformat_minor": 5
}
