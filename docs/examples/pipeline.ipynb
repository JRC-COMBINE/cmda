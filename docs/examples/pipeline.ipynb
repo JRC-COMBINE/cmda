{
 "cells": [
  {
   "cell_type": "markdown",
   "id": "91cc5280",
   "metadata": {},
   "source": [
    "# Feature Extraction Pipeline"
   ]
  },
  {
   "cell_type": "markdown",
   "id": "3a7fa1a9",
   "metadata": {},
   "source": [
    "In this tutorial, we show how to use the pipeline to extract features from a Physionet database."
   ]
  },
  {
   "cell_type": "markdown",
   "id": "be9a9407",
   "metadata": {},
   "source": [
    "We extract features from the [ECGRDVQ](https://physionet.org/content/ecgrdvq/1.0.0/) database.  From the database description: \"The ECGRDVQ database contains 5232 extracted 10-second standard 12 lead ECG segments\".\n",
    "The meta-data of the database (```ecgrdvq_metadata```), which is a dictionary consisting of the record names ```record_name``` and their coressponding public directories ```public_dir```, is avaialbe in ```cmda.data.wfdb```.\n",
    "The pipeline includes importing the data, applying filters to the records and feature extraction from records. To import the data from Physionet WFDB we use the ```cmda.read_data.ReadWFDB```. We create the filtering object by ```cmda.filter.Filters``` and create the feature object by ```cmda.feature_extraction.Features```. A detailed tutorial of creating feature objects can be found here."
   ]
  },
  {
   "cell_type": "code",
   "execution_count": 1,
   "id": "f1ace975",
   "metadata": {},
   "outputs": [],
   "source": [
    "from cmda.data.wfdb import ecgrdvq_metadata\n",
    "from cmda.read_data import ReadWFDB\n",
    "from cmda.filter import Filters\n",
    "from cmda.feature_extraction import Features\n",
    "from cmda.pipeline import Pipeline\n",
    "\n",
    "# Load the meta-data\n",
    "metadata = ecgrdvq_metadata()\n",
    "\n",
    "# get the record names and their corresponding public directories\n",
    "# In this example we select the first 12 instances to have a fast results\n",
    "record_names = metadata['record_name'][0:12]\n",
    "public_dir = metadata['public_dir'][0:12]\n",
    "\n",
    "# Build the importer object using ReadWFDB \n",
    "# Set the channels to [\"II\",'V1'] to import these channels exclusively. \n",
    "importer = ReadWFDB(record_names=record_names, public_dir=public_dir, channels=['II','V1'])\n",
    "\n",
    "# Create the filter object and add a buuterworth low-pass filter\n",
    "filters = Filters()\n",
    "filters.add.butter_filter(cutoff=60, btype=\"lowpass\")\n",
    "\n",
    "# Create the feature object\n",
    "features = Features()\n",
    "features.add.mnf()\n",
    "features.add.stdf()\n",
    "features.add.band_sum(low=1, high=7)"
   ]
  },
  {
   "cell_type": "code",
   "execution_count": 2,
   "id": "7e7685ec",
   "metadata": {},
   "outputs": [
    {
     "name": "stdout",
     "output_type": "stream",
     "text": [
      "Running the pipeline on 12 instances...\n",
      "\n"
     ]
    },
    {
     "name": "stderr",
     "output_type": "stream",
     "text": [
      "100%|██████████| 12/12 [00:05<00:00,  2.04it/s]"
     ]
    },
    {
     "name": "stdout",
     "output_type": "stream",
     "text": [
      "finished!\n"
     ]
    },
    {
     "name": "stderr",
     "output_type": "stream",
     "text": [
      "\n"
     ]
    }
   ],
   "source": [
    "# Build the pipeline\n",
    "ecgrdvq_pipeline = Pipeline(importer=importer,features=features, filters=filters)\n",
    "\n",
    "# Run the pipeline\n",
    "# Set the dataframe_output \n",
    "res = ecgrdvq_pipeline.run(n_jobs=4, dataframe_output = True)"
   ]
  },
  {
   "cell_type": "code",
   "execution_count": 3,
   "id": "f1972566",
   "metadata": {},
   "outputs": [
    {
     "data": {
      "text/html": [
       "<div>\n",
       "<style scoped>\n",
       "    .dataframe tbody tr th:only-of-type {\n",
       "        vertical-align: middle;\n",
       "    }\n",
       "\n",
       "    .dataframe tbody tr th {\n",
       "        vertical-align: top;\n",
       "    }\n",
       "\n",
       "    .dataframe thead th {\n",
       "        text-align: right;\n",
       "    }\n",
       "</style>\n",
       "<table border=\"1\" class=\"dataframe\">\n",
       "  <thead>\n",
       "    <tr style=\"text-align: right;\">\n",
       "      <th></th>\n",
       "      <th>II_mnf</th>\n",
       "      <th>II_stdf</th>\n",
       "      <th>II_band_sum</th>\n",
       "      <th>V1_mnf</th>\n",
       "      <th>V1_stdf</th>\n",
       "      <th>V1_band_sum</th>\n",
       "    </tr>\n",
       "  </thead>\n",
       "  <tbody>\n",
       "    <tr>\n",
       "      <th>491af4aa-941a-4a89-b74c-b38d91cfc5e9</th>\n",
       "      <td>8.667959</td>\n",
       "      <td>6.152966</td>\n",
       "      <td>0.464750</td>\n",
       "      <td>7.560547</td>\n",
       "      <td>5.179558</td>\n",
       "      <td>0.503667</td>\n",
       "    </tr>\n",
       "    <tr>\n",
       "      <th>db4d09aa-f26c-4acb-92fd-6ac316918bc8</th>\n",
       "      <td>8.791343</td>\n",
       "      <td>6.136429</td>\n",
       "      <td>0.466031</td>\n",
       "      <td>7.498114</td>\n",
       "      <td>5.225458</td>\n",
       "      <td>0.512484</td>\n",
       "    </tr>\n",
       "    <tr>\n",
       "      <th>dd3caf18-354d-4c81-9ff5-6aed843cd84b</th>\n",
       "      <td>8.994343</td>\n",
       "      <td>6.254645</td>\n",
       "      <td>0.427771</td>\n",
       "      <td>7.572526</td>\n",
       "      <td>5.366888</td>\n",
       "      <td>0.492164</td>\n",
       "    </tr>\n",
       "    <tr>\n",
       "      <th>12133f6e-efcf-48cc-a184-2e4d7cc05a89</th>\n",
       "      <td>8.704130</td>\n",
       "      <td>6.257274</td>\n",
       "      <td>0.449003</td>\n",
       "      <td>7.631221</td>\n",
       "      <td>5.243020</td>\n",
       "      <td>0.497363</td>\n",
       "    </tr>\n",
       "    <tr>\n",
       "      <th>2c179592-3c18-47f2-930a-7f17ae4bc596</th>\n",
       "      <td>8.956668</td>\n",
       "      <td>6.766684</td>\n",
       "      <td>0.441981</td>\n",
       "      <td>7.723886</td>\n",
       "      <td>5.293620</td>\n",
       "      <td>0.484876</td>\n",
       "    </tr>\n",
       "    <tr>\n",
       "      <th>43457f03-eb84-49ef-a00a-8cbad7d5108d</th>\n",
       "      <td>9.574600</td>\n",
       "      <td>7.229321</td>\n",
       "      <td>0.375681</td>\n",
       "      <td>7.931221</td>\n",
       "      <td>8.430665</td>\n",
       "      <td>0.473490</td>\n",
       "    </tr>\n",
       "    <tr>\n",
       "      <th>00ed2097-cd14-4f03-ab33-853da5be5550</th>\n",
       "      <td>9.279138</td>\n",
       "      <td>6.419775</td>\n",
       "      <td>0.410092</td>\n",
       "      <td>7.540609</td>\n",
       "      <td>5.198409</td>\n",
       "      <td>0.493821</td>\n",
       "    </tr>\n",
       "    <tr>\n",
       "      <th>9d7c5729-9458-4f8f-bf32-532d6b5ee5a4</th>\n",
       "      <td>9.025684</td>\n",
       "      <td>6.204357</td>\n",
       "      <td>0.421404</td>\n",
       "      <td>7.546192</td>\n",
       "      <td>5.129932</td>\n",
       "      <td>0.491710</td>\n",
       "    </tr>\n",
       "    <tr>\n",
       "      <th>cd50da94-9c66-4b62-88a2-5879fbc17999</th>\n",
       "      <td>9.012871</td>\n",
       "      <td>6.206022</td>\n",
       "      <td>0.431222</td>\n",
       "      <td>7.681139</td>\n",
       "      <td>5.088155</td>\n",
       "      <td>0.488235</td>\n",
       "    </tr>\n",
       "    <tr>\n",
       "      <th>3289874c-4da9-4a88-b68f-517ebacf0862</th>\n",
       "      <td>8.821893</td>\n",
       "      <td>6.395041</td>\n",
       "      <td>0.429677</td>\n",
       "      <td>7.547925</td>\n",
       "      <td>5.285196</td>\n",
       "      <td>0.487406</td>\n",
       "    </tr>\n",
       "    <tr>\n",
       "      <th>95dc1b28-c44a-40b1-87f2-47a00f2f99d4</th>\n",
       "      <td>8.901260</td>\n",
       "      <td>6.299788</td>\n",
       "      <td>0.424756</td>\n",
       "      <td>7.551129</td>\n",
       "      <td>5.389884</td>\n",
       "      <td>0.490206</td>\n",
       "    </tr>\n",
       "    <tr>\n",
       "      <th>a8979e69-69d8-406d-b21b-ed30c31c84c4</th>\n",
       "      <td>9.015276</td>\n",
       "      <td>6.206996</td>\n",
       "      <td>0.440704</td>\n",
       "      <td>7.558270</td>\n",
       "      <td>5.226431</td>\n",
       "      <td>0.498818</td>\n",
       "    </tr>\n",
       "  </tbody>\n",
       "</table>\n",
       "</div>"
      ],
      "text/plain": [
       "                                        II_mnf   II_stdf  II_band_sum  \\\n",
       "491af4aa-941a-4a89-b74c-b38d91cfc5e9  8.667959  6.152966     0.464750   \n",
       "db4d09aa-f26c-4acb-92fd-6ac316918bc8  8.791343  6.136429     0.466031   \n",
       "dd3caf18-354d-4c81-9ff5-6aed843cd84b  8.994343  6.254645     0.427771   \n",
       "12133f6e-efcf-48cc-a184-2e4d7cc05a89  8.704130  6.257274     0.449003   \n",
       "2c179592-3c18-47f2-930a-7f17ae4bc596  8.956668  6.766684     0.441981   \n",
       "43457f03-eb84-49ef-a00a-8cbad7d5108d  9.574600  7.229321     0.375681   \n",
       "00ed2097-cd14-4f03-ab33-853da5be5550  9.279138  6.419775     0.410092   \n",
       "9d7c5729-9458-4f8f-bf32-532d6b5ee5a4  9.025684  6.204357     0.421404   \n",
       "cd50da94-9c66-4b62-88a2-5879fbc17999  9.012871  6.206022     0.431222   \n",
       "3289874c-4da9-4a88-b68f-517ebacf0862  8.821893  6.395041     0.429677   \n",
       "95dc1b28-c44a-40b1-87f2-47a00f2f99d4  8.901260  6.299788     0.424756   \n",
       "a8979e69-69d8-406d-b21b-ed30c31c84c4  9.015276  6.206996     0.440704   \n",
       "\n",
       "                                        V1_mnf   V1_stdf  V1_band_sum  \n",
       "491af4aa-941a-4a89-b74c-b38d91cfc5e9  7.560547  5.179558     0.503667  \n",
       "db4d09aa-f26c-4acb-92fd-6ac316918bc8  7.498114  5.225458     0.512484  \n",
       "dd3caf18-354d-4c81-9ff5-6aed843cd84b  7.572526  5.366888     0.492164  \n",
       "12133f6e-efcf-48cc-a184-2e4d7cc05a89  7.631221  5.243020     0.497363  \n",
       "2c179592-3c18-47f2-930a-7f17ae4bc596  7.723886  5.293620     0.484876  \n",
       "43457f03-eb84-49ef-a00a-8cbad7d5108d  7.931221  8.430665     0.473490  \n",
       "00ed2097-cd14-4f03-ab33-853da5be5550  7.540609  5.198409     0.493821  \n",
       "9d7c5729-9458-4f8f-bf32-532d6b5ee5a4  7.546192  5.129932     0.491710  \n",
       "cd50da94-9c66-4b62-88a2-5879fbc17999  7.681139  5.088155     0.488235  \n",
       "3289874c-4da9-4a88-b68f-517ebacf0862  7.547925  5.285196     0.487406  \n",
       "95dc1b28-c44a-40b1-87f2-47a00f2f99d4  7.551129  5.389884     0.490206  \n",
       "a8979e69-69d8-406d-b21b-ed30c31c84c4  7.558270  5.226431     0.498818  "
      ]
     },
     "execution_count": 3,
     "metadata": {},
     "output_type": "execute_result"
    }
   ],
   "source": [
    "# the extracted features\n",
    "res"
   ]
  }
 ],
 "metadata": {
  "kernelspec": {
   "display_name": "Python 3",
   "language": "python",
   "name": "python3"
  },
  "language_info": {
   "codemirror_mode": {
    "name": "ipython",
    "version": 3
   },
   "file_extension": ".py",
   "mimetype": "text/x-python",
   "name": "python",
   "nbconvert_exporter": "python",
   "pygments_lexer": "ipython3",
   "version": "3.7.4"
  }
 },
 "nbformat": 4,
 "nbformat_minor": 5
}
